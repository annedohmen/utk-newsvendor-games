{
 "cells": [
  {
   "cell_type": "code",
   "execution_count": 1,
   "metadata": {},
   "outputs": [],
   "source": [
    "import sys\n",
    "import os\n",
    "import json\n",
    "from pathlib import Path\n",
    "\n",
    "# os.getcwd() == \"utk-games\"\n",
    "sys.path.append(str(Path(os.getcwd())))\n",
    "\n",
    "import demandplanning_game_1 as g1\n",
    "settings = g1.util.get_settings()"
   ]
  },
  {
   "cell_type": "code",
   "execution_count": 2,
   "metadata": {},
   "outputs": [
    {
     "data": {
      "text/plain": [
       "'{\"DEBUG\": true, \"AWS_ACCESS_KEY_ID\": null, \"AWS_SECRET_ACCESS_KEY\": null, \"AUTH_LEVEL\": null, \"REAL_WORLD_CURRENCY_CODE\": \"USD\", \"USE_POINTS\": true, \"POINTS_DECIMAL_PLACES\": 0, \"POINTS_CUSTOM_NAME\": null, \"ADMIN_PASSWORD\": null, \"MTURK_NUM_PARTICIPANTS_MULTIPLE\": 2, \"BOTS_CHECK_HTML\": true, \"PARTICIPANT_FIELDS\": [\"treatment\"], \"SESSION_FIELDS\": [\"session_name\", \"some_other_session_field\"], \"SESSION_CONFIG_DEFAULTS\": {\"real_world_currency_per_point\": 1.0, \"participation_fee\": 0.0, \"doc\": \"\", \"use_secure_urls\": true}, \"SESSION_CONFIGS\": [{\"name\": \"demandplanning\", \"app_sequence\": [\"demandplanning_game_1\"], \"num_demo_participants\": 1, \"session_name\": \"SweetSessionNameBro\", \"some_other_session_field\": \"\\'this here is the value for some other session field my man\\'\", \"participation_fee\": 0.35}], \"LANGUAGE_CODE\": \"en\", \"ADMIN_USERNAME\": \"admin\", \"DEMO_PAGE_INTRO_HTML\": \" \", \"SECRET_KEY\": \"5694079434357\", \"OTREE_APPS\": [\"demandplanning_game_1\"], \"REAL_WORLD_CURRENCY_DECIMAL_PLACES\": 2, \"LANGUAGE_CODE_ISO\": \"en\", \"DECIMAL_SEPARATOR\": \".\"}'"
      ]
     },
     "execution_count": 2,
     "metadata": {},
     "output_type": "execute_result"
    }
   ],
   "source": [
    "g1.util.json_dump_settings()"
   ]
  },
  {
   "cell_type": "code",
   "execution_count": 4,
   "metadata": {},
   "outputs": [
    {
     "data": {
      "text/plain": [
       "('{\"idx\": 2, \"variance_choice\": \"low\", \"disruption_choice\": false}',\n",
       " '{\"1\": \"{\\\\\"idx\\\\\": 1, \\\\\"variance_choice\\\\\": \\\\\"low\\\\\", \\\\\"disruption_choice\\\\\": true}\", \"2\": \"{\\\\\"idx\\\\\": 2, \\\\\"variance_choice\\\\\": \\\\\"low\\\\\", \\\\\"disruption_choice\\\\\": false}\", \"3\": \"{\\\\\"idx\\\\\": 3, \\\\\"variance_choice\\\\\": \\\\\"high\\\\\", \\\\\"disruption_choice\\\\\": true}\", \"4\": \"{\\\\\"idx\\\\\": 4, \\\\\"variance_choice\\\\\": \\\\\"high\\\\\", \\\\\"disruption_choice\\\\\": false}\"}')"
      ]
     },
     "execution_count": 4,
     "metadata": {},
     "output_type": "execute_result"
    }
   ],
   "source": [
    "treatment = g1.treatment.Treatment.choose()\n",
    "json_all_treatments = g1.treatment.json_dump_all_treatment_groups()\n",
    "json_treatment = treatment.json()\n",
    "\n",
    "assert g1.treatment.Treatment.parse_raw(json_treatment) == treatment\n",
    "assert g1.treatment.Treatment.from_index(treatment_index=treatment.idx) == treatment\n",
    "\n",
    "json_treatment, json_all_treatments\n"
   ]
  },
  {
   "cell_type": "code",
   "execution_count": null,
   "metadata": {},
   "outputs": [],
   "source": [
    "# json.loads(json_treatment)\n",
    "treatment.parse_raw(json_treatment)"
   ]
  },
  {
   "cell_type": "code",
   "execution_count": 10,
   "metadata": {},
   "outputs": [],
   "source": [
    "class A:\n",
    "    def __init__(self):\n",
    "        self.value = 1\n",
    "\n",
    "    def get(self):\n",
    "        return self.value\n",
    "\n",
    "class B(A):\n",
    "    def get(self):\n",
    "        return super().get()\n"
   ]
  },
  {
   "cell_type": "code",
   "execution_count": null,
   "metadata": {},
   "outputs": [],
   "source": []
  }
 ],
 "metadata": {
  "interpreter": {
   "hash": "2ea865f862fe0b5e379acb0d4d75104055c2c16637f90347fc805bfd449553ee"
  },
  "kernelspec": {
   "display_name": "Python 3.9.2 64-bit ('venv': venv)",
   "name": "python3"
  },
  "language_info": {
   "codemirror_mode": {
    "name": "ipython",
    "version": 3
   },
   "file_extension": ".py",
   "mimetype": "text/x-python",
   "name": "python",
   "nbconvert_exporter": "python",
   "pygments_lexer": "ipython3",
   "version": "3.9.2"
  },
  "orig_nbformat": 4
 },
 "nbformat": 4,
 "nbformat_minor": 2
}
