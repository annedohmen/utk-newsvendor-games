{
 "cells": [
  {
   "cell_type": "code",
   "execution_count": 1,
   "metadata": {},
   "outputs": [
    {
     "data": {
      "text/plain": [
       "'/home/gmoore3/gitrepos/my-private/Projects/utk-newsvendor-games/utk-games'"
      ]
     },
     "execution_count": 1,
     "metadata": {},
     "output_type": "execute_result"
    }
   ],
   "source": [
    "import os\n",
    "os.getcwd()"
   ]
  },
  {
   "cell_type": "code",
   "execution_count": 2,
   "metadata": {},
   "outputs": [],
   "source": [
    "from disruption.constants import VARIABILITY_CHOICES, DISRUPTION_CHOICES\n",
    "from itertools import product\n",
    "p = list(product(VARIABILITY_CHOICES, DISRUPTION_CHOICES))"
   ]
  },
  {
   "cell_type": "code",
   "execution_count": 3,
   "metadata": {},
   "outputs": [
    {
     "data": {
      "text/plain": [
       "[('high', True), ('high', False), ('low', True), ('low', False)]"
      ]
     },
     "execution_count": 3,
     "metadata": {},
     "output_type": "execute_result"
    }
   ],
   "source": [
    "p"
   ]
  },
  {
   "cell_type": "code",
   "execution_count": null,
   "metadata": {},
   "outputs": [],
   "source": [
    "from typing import *"
   ]
  },
  {
   "cell_type": "code",
   "execution_count": null,
   "metadata": {},
   "outputs": [],
   "source": [
    "import inspect as i"
   ]
  },
  {
   "cell_type": "code",
   "execution_count": null,
   "metadata": {},
   "outputs": [],
   "source": [
    "FormFieldValidator = Callable[[Any, Any], Optional[Dict[str, str]]]\n",
    "def wrapper(validator: FormFieldValidator):\n",
    "    return"
   ]
  },
  {
   "cell_type": "code",
   "execution_count": null,
   "metadata": {},
   "outputs": [],
   "source": [
    "aspec = i.getfullargspec(wrapper)\n",
    "aspec\n",
    "t = aspec.annotations['validator']\n"
   ]
  },
  {
   "cell_type": "code",
   "execution_count": null,
   "metadata": {},
   "outputs": [],
   "source": [
    "t, t.__dict__"
   ]
  },
  {
   "cell_type": "code",
   "execution_count": null,
   "metadata": {},
   "outputs": [],
   "source": [
    "from pydantic import Field, BaseModel\n",
    "from pydantic.main import Extra\n",
    "\n",
    "class A(BaseModel):\n",
    "    a: int = Field(default=1)\n",
    "    b: float = 10.0\n",
    "    _c: float = None\n",
    "\n",
    "    class Config:\n",
    "        extra = Extra.allow"
   ]
  },
  {
   "cell_type": "code",
   "execution_count": null,
   "metadata": {},
   "outputs": [],
   "source": [
    "a = A(a=10,b=-3, _c=334)\n",
    "a"
   ]
  },
  {
   "cell_type": "code",
   "execution_count": null,
   "metadata": {},
   "outputs": [],
   "source": [
    "repr(a)"
   ]
  },
  {
   "cell_type": "code",
   "execution_count": null,
   "metadata": {},
   "outputs": [],
   "source": [
    "d=dict(natural_mean=100, sigma=50)"
   ]
  },
  {
   "cell_type": "code",
   "execution_count": null,
   "metadata": {},
   "outputs": [],
   "source": [
    "import os, re\n",
    "\n",
    "m = re.findall(r'[a-zA-Z]', '11A')\n",
    "m"
   ]
  },
  {
   "cell_type": "code",
   "execution_count": 13,
   "metadata": {},
   "outputs": [
    {
     "data": {
      "text/plain": [
       "({'disruption': <module 'disruption' from '/home/gmoore3/gitrepos/my-private/Projects/utk-newsvendor-games/utk-games/disruption/__init__.py'>,\n",
       "  'shorthorizon': <module 'shorthorizon' from '/home/gmoore3/gitrepos/my-private/Projects/utk-newsvendor-games/utk-games/shorthorizon/__init__.py'>},\n",
       " {'disruption': <module 'disruption' from '/home/gmoore3/gitrepos/my-private/Projects/utk-newsvendor-games/utk-games/disruption/__init__.py'>,\n",
       "  'shorthorizon': <module 'shorthorizon' from '/home/gmoore3/gitrepos/my-private/Projects/utk-newsvendor-games/utk-games/shorthorizon/__init__.py'>},\n",
       " {'disruption': True, 'shorthorizon': True})"
      ]
     },
     "execution_count": 13,
     "metadata": {},
     "output_type": "execute_result"
    }
   ],
   "source": [
    "from otree.settings import OTREE_APPS\n",
    "from otree.common import get_models_module, is_noself, get_pages_module\n",
    "model_modules = {}\n",
    "is_noselfs = {}\n",
    "pages_modules = {}\n",
    "for app in OTREE_APPS:\n",
    "    model_modules.update({app: get_models_module(app)})\n",
    "    pages_modules.update({app: get_pages_module(app)})\n",
    "    is_noselfs.update({app: is_noself(app)})\n",
    "model_modules, pages_modules, is_noselfs"
   ]
  },
  {
   "cell_type": "code",
   "execution_count": 10,
   "metadata": {},
   "outputs": [
    {
     "data": {
      "text/plain": [
       "(disruption.models.Player, shorthorizon.models.Player)"
      ]
     },
     "execution_count": 10,
     "metadata": {},
     "output_type": "execute_result"
    }
   ],
   "source": [
    "model_modules[0].Player, model_modules[1].Player"
   ]
  },
  {
   "cell_type": "code",
   "execution_count": null,
   "metadata": {},
   "outputs": [],
   "source": [
    "from shorthorizon.treatment import Treatment"
   ]
  },
  {
   "cell_type": "code",
   "execution_count": null,
   "metadata": {},
   "outputs": [],
   "source": [
    "t = Treatment(idx=0)"
   ]
  },
  {
   "cell_type": "code",
   "execution_count": null,
   "metadata": {},
   "outputs": [],
   "source": [
    "t.idx"
   ]
  },
  {
   "cell_type": "code",
   "execution_count": null,
   "metadata": {},
   "outputs": [],
   "source": [
    "import matplotlib.pyplot as plt\n",
    "import scipy.stats as stats\n",
    "import numpy as np\n",
    "\n",
    "\n",
    "x_min = 0.0\n",
    "x_max = 16.0\n",
    "\n",
    "mean = 8.0 \n",
    "std = 2.0\n",
    "\n",
    "x = np.linspace(x_min, x_max, 100)\n",
    "\n",
    "y = stats.norm.pdf(x,mean,std)\n",
    "\n",
    "plt.plot(x,y, color='coral')\n",
    "\n",
    "plt.grid()\n",
    "\n",
    "plt.xlim(x_min,x_max)\n",
    "plt.ylim(0,0.25)\n",
    "\n",
    "plt.title('How to plot a normal distribution in python with matplotlib',fontsize=10)\n",
    "\n",
    "plt.xlabel('x')\n",
    "plt.ylabel('Normal Distribution')"
   ]
  },
  {
   "cell_type": "code",
   "execution_count": null,
   "metadata": {},
   "outputs": [],
   "source": [
    "help(stats.lognorm.pdf)"
   ]
  },
  {
   "cell_type": "code",
   "execution_count": null,
   "metadata": {},
   "outputs": [],
   "source": [
    "import matplotlib.pyplot as plt\n",
    "import scipy.stats as stats\n",
    "import numpy as np\n",
    "\n",
    "\n",
    "n_mu, n_sigma = 100, 50\n",
    "\n",
    "# method of moments:\n",
    "mu, sigma = np.log(n_mu**2/np.sqrt(n_sigma**2 + n_mu**2)), np.sqrt( np.log(n_sigma**2/(n_mu**2) + 1) )\n",
    "\n",
    "y = np.random.lognormal(mu, sigma, int(1e4))\n",
    "plt.hist(y, density=True, bins=100, color='coral')\n",
    "plt.show()"
   ]
  },
  {
   "cell_type": "code",
   "execution_count": null,
   "metadata": {},
   "outputs": [],
   "source": [
    "n_mu, n_sigma = 100, 50\n",
    "\n",
    "# method of moments:\n",
    "mu, sigma = np.log(n_mu**2/np.sqrt(n_sigma**2 + n_mu**2)), np.log(n_sigma**2/(n_mu**2) + 1)\n",
    "x_min = 0\n",
    "x_max = 300\n",
    "x = np.linspace(x_min, x_max, 50)\n",
    "y = stats.lognorm.pdf(x, s=sigma, loc=n_mu)\n",
    "plt.plot(x,y, color='coral')\n",
    "\n",
    "plt.grid()\n",
    "plt.xlim(x_min,x_max)\n",
    "# # plt.ylim(0,0.25)\n",
    "\n",
    "plt.title('How to plot a normal distribution in python with matplotlib',fontsize=10)\n",
    "\n",
    "plt.xlabel('x')\n",
    "plt.ylabel('Normal Distribution')\n",
    "plt.show()"
   ]
  },
  {
   "cell_type": "code",
   "execution_count": null,
   "metadata": {},
   "outputs": [],
   "source": []
  }
 ],
 "metadata": {
  "interpreter": {
   "hash": "eb6aec999c5ab838b4c385be6bd14a31a11346c17184569eadaf638338b776d9"
  },
  "kernelspec": {
   "display_name": "Python 3.9.2 64-bit ('venv': venv)",
   "name": "python3"
  },
  "language_info": {
   "codemirror_mode": {
    "name": "ipython",
    "version": 3
   },
   "file_extension": ".py",
   "mimetype": "text/x-python",
   "name": "python",
   "nbconvert_exporter": "python",
   "pygments_lexer": "ipython3",
   "version": "3.9.2"
  },
  "orig_nbformat": 4
 },
 "nbformat": 4,
 "nbformat_minor": 2
}
